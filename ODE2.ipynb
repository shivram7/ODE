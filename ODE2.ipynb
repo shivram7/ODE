{
 "cells": [
  {
   "cell_type": "code",
   "execution_count": 3,
   "id": "2fd8a68a",
   "metadata": {},
   "outputs": [],
   "source": [
    "import numpy as np\n",
    "import scipy\n",
    "from scipy.linalg import lu_factor, lu_solve\n",
    "from scipy.linalg import qr, solve_triangular\n",
    "import matplotlib as mpl\n",
    "import matplotlib.pyplot as plt\n",
    "import bspy"
   ]
  },
  {
   "cell_type": "markdown",
   "id": "1c7cc320",
   "metadata": {},
   "source": [
    "# ODE \\#2\n",
    "\n",
    "$$y''(t)=y(t),\\qquad y(0)=1,\\quad y(1)=1$$"
   ]
  },
  {
   "cell_type": "markdown",
   "id": "e2ed3114",
   "metadata": {},
   "source": [
    "\n"
   ]
  },
  {
   "cell_type": "code",
   "execution_count": 9,
   "id": "b64982c2",
   "metadata": {},
   "outputs": [
    {
     "name": "stdout",
     "output_type": "stream",
     "text": [
      "knots: [0.   0.   0.   0.   0.   0.25 0.5  0.75 1.   1.   1.   1.   1.  ]\n",
      "t: 0.0 index: 5 second deriv bval: [ 192. -288.   96.    0.    0.] bval: [1. 0. 0. 0. 0.]\n",
      "t: 0.2 index: 5 second deriv bval: [  7.68        19.2        -40.53333333   8.53333333   5.12      ] bval: [0.0016     0.256      0.52622222 0.19911111 0.01706667]\n",
      "t: 0.4 index: 6 second deriv bval: [  3.84         9.38666667 -22.18666667   5.12         3.84      ] bval: [0.0032     0.20382222 0.54151111 0.24426667 0.0072    ]\n",
      "t: 0.6000000000000001 index: 7 second deriv bval: [  3.84         5.12       -22.18666667   9.38666667   3.84      ] bval: [0.0072     0.24426667 0.54151111 0.20382222 0.0032    ]\n",
      "t: 0.8 index: 8 second deriv bval: [  5.12         8.53333333 -40.53333333  19.2          7.68      ] bval: [0.01706667 0.19911111 0.52622222 0.256      0.0016    ]\n",
      "t: 1.0 index: 8 second deriv bval: [   0.    0.   96. -288.  192.] bval: [0. 0. 0. 0. 1.]\n"
     ]
    },
    {
     "data": {
      "image/png": "[encoded data removed]",
      "text/plain": [
       "<Figure size 640x480 with 1 Axes>"
      ]
     },
     "metadata": {},
     "output_type": "display_data"
    }
   ],
   "source": [
    "#set parameters\n",
    "\n",
    "degree = 4\n",
    "nknots = 3 #interior knots\n",
    "\n",
    "\n",
    "#create knot vector\n",
    "\n",
    "knots = np.linspace(0.0, 1.0, nknots + 2)\n",
    "knots = np.array(degree * [knots[0]] + list(knots) + degree * [knots[-1]]) # add extra knots at beginning and end\n",
    "print(\"knots:\", knots)\n",
    "\n",
    "\n",
    "#initialize order and dimension\n",
    "\n",
    "order = degree + 1\n",
    "n = len(knots) - order #dimension\n",
    "#print(\"dimensions:\", n)\n",
    "\n",
    "\n",
    "collocationpoints = np.linspace(0.0, 1.0, n - 2) # n-2 due to 2 given points\n",
    "#print(\"collocation points:\", collocationpoints)\n",
    "\n",
    "\n",
    "#initialize collocation matrix\n",
    "\n",
    "collocation = np.zeros((n, n))\n",
    "#print(\"initialized collocation array:\", collocation)\n",
    "\n",
    "#find index of first knot in the array that follows point of evaluation, set Bslipne boundary condition to 1.0 \n",
    "ix = np.searchsorted(knots, 1.0, side = 'right')\n",
    "ix = min(ix, n)\n",
    "#print(\"index:\", ix)\n",
    "\n",
    "\n",
    "#fill collocation matrix with Bspline values at 1.0\n",
    "bvalues = bspy.Spline.bspline_values(ix, knots, order, 1.0)\n",
    "collocation[-1, ix - order : ix] = bvalues\n",
    "\n",
    "\n",
    "#find index of first knot in the array that follows point of evaluation, set Bslipne boundary condition to 1.0 \n",
    "ix = np.searchsorted(knots, 1.0, side = 'right')\n",
    "ix = min(ix, n)\n",
    "#print(\"index:\", ix)\n",
    "\n",
    "\n",
    "#fill collocation matrix with Bspline values at 0.0\n",
    "bvalues = bspy.Spline.bspline_values(ix, knots, order, 0.0)\n",
    "collocation[0, ix - order : ix] = bvalues\n",
    "\n",
    "\n",
    "for irow, t in enumerate(collocationpoints):\n",
    "    ix = np.searchsorted(knots, t, side = 'right')\n",
    "    ix = min(ix, n)\n",
    "\n",
    "    #calculate Bspline and derivative at t\n",
    "    bvalues = bspy.Spline.bspline_values(ix, knots, order, t)\n",
    "    bvalues2p = bspy.Spline.bspline_values(ix, knots, order, t, 2)\n",
    "    print(\"t:\", t,\"index:\", ix, \"second deriv bval:\", bvalues2p, \"bval:\", bvalues)\n",
    "    \n",
    "    #from the irow value after boundary condition (irow) insert y'' - y\n",
    "    collocation[irow + 1, ix - order : ix] = bvalues2p - bvalues \n",
    "    #print(\"collocation:\", collocation)\n",
    "    \n",
    "# Create the right hand side\n",
    "rhs = np.zeros((n,))\n",
    "rhs[-1] = 1.0\n",
    "rhs[0] = 1.0\n",
    "#print(\"rhs:\", rhs)\n",
    "\n",
    "# Solve the linear system\n",
    "lupiv = scipy.linalg.lu_factor(collocation)\n",
    "alpha = scipy.linalg.lu_solve(lupiv, rhs)\n",
    "alpha\n",
    "\n",
    "#create spline function\n",
    "u = bspy.Spline(1, 1, [order], [n], [knots], [alpha])\n",
    "u(0.0), u(0.5), u(1.0)\n",
    "\n",
    "#print(\"collocation\", collocation, \"*\", \"alpha\", alpha, \"=\", \"rhs\", rhs)\n",
    "\n",
    "\n",
    "#plot\n",
    "plt.plot(*u.graph()(np.linspace(0.0,1.0,101)))\n",
    "tvals = np.linspace(0, 1, 100)\n",
    "plt.plot(tvals, (np.exp(tvals) + np.exp(-tvals + 1))/(1 + np.exp(1)), 'r')\n",
    "plt.axis('equal')\n",
    "plt.show()"
   ]
  },
  {
   "cell_type": "code",
   "execution_count": null,
   "id": "2f81170f",
   "metadata": {},
   "outputs": [],
   "source": []
  },
  {
   "cell_type": "code",
   "execution_count": null,
   "id": "1eabc59f",
   "metadata": {},
   "outputs": [],
   "source": []
  },
  {
   "cell_type": "code",
   "execution_count": null,
   "id": "5462d1be",
   "metadata": {},
   "outputs": [],
   "source": []
  },
  {
   "cell_type": "code",
   "execution_count": null,
   "id": "bf3a7898",
   "metadata": {},
   "outputs": [],
   "source": []
  },
  {
   "cell_type": "code",
   "execution_count": null,
   "id": "a91cfd63",
   "metadata": {},
   "outputs": [],
   "source": []
  }
 ],
 "metadata": {
  "kernelspec": {
   "display_name": "Python 3 (ipykernel)",
   "language": "python",
   "name": "python3"
  },
  "language_info": {
   "codemirror_mode": {
    "name": "ipython",
    "version": 3
   },
   "file_extension": ".py",
   "mimetype": "text/x-python",
   "name": "python",
   "nbconvert_exporter": "python",
   "pygments_lexer": "ipython3",
   "version": "3.11.5"
  }
 },
 "nbformat": 4,
 "nbformat_minor": 5
}
