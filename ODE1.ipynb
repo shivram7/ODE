{
 "cells": [
  {
   "cell_type": "code",
   "execution_count": 2,
   "id": "f640f380",
   "metadata": {},
   "outputs": [],
   "source": [
    "import numpy as np\n",
    "import scipy\n",
    "from scipy.linalg import lu_factor, lu_solve\n",
    "from scipy.linalg import qr, solve_triangular\n",
    "import matplotlib as mpl\n",
    "import matplotlib.pyplot as plt\n",
    "import bspy"
   ]
  },
  {
   "cell_type": "markdown",
   "id": "828ff5f7",
   "metadata": {},
   "source": [
    "# ODE \\#1\n",
    "\n",
    "$$y'(t)=y(t),\\qquad y(1)=1$$"
   ]
  },
  {
   "cell_type": "code",
   "execution_count": 14,
   "id": "342e78ea",
   "metadata": {},
   "outputs": [
    {
     "name": "stdout",
     "output_type": "stream",
     "text": [
      "knots: [0.         0.         0.         0.         0.33333333 0.66666667\n",
      " 1.         1.         1.         1.        ]\n",
      "t: 0.0 index: 4 bvaluesp: [-9.  9.  0.  0.] bvalues: [1. 0. 0. 0.]\n",
      "t: 0.25 index: 4 bvaluesp: [-0.5625   -2.390625  2.109375  0.84375 ] bvalues: [0.015625   0.45703125 0.45703125 0.0703125 ]\n",
      "t: 0.5 index: 5 bvaluesp: [-0.5625 -1.6875  1.6875  0.5625] bvalues: [0.03125 0.46875 0.46875 0.03125]\n",
      "t: 0.75 index: 6 bvaluesp: [-0.84375  -2.109375  2.390625  0.5625  ] bvalues: [0.0703125  0.45703125 0.45703125 0.015625  ]\n",
      "t: 1.0 index: 6 bvaluesp: [ 0.  0. -9.  9.] bvalues: [0. 0. 0. 1.]\n"
     ]
    },
    {
     "data": {
      "image/png": "[encoded data removed]",
      "text/plain": [
       "<Figure size 640x480 with 1 Axes>"
      ]
     },
     "metadata": {},
     "output_type": "display_data"
    }
   ],
   "source": [
    "#set parameters\n",
    "\n",
    "degree = 3\n",
    "nknots = 2 #interior knots\n",
    "\n",
    "\n",
    "#create knot vector\n",
    "\n",
    "knots = np.linspace(0.0, 1.0, nknots + 2)\n",
    "knots = np.array(degree * [knots[0]] + list(knots) + degree * [knots[-1]]) # add extra knots at beginning and end\n",
    "print(\"knots:\", knots)\n",
    "\n",
    "\n",
    "#initialize order and dimension\n",
    "\n",
    "order = degree + 1\n",
    "n = len(knots) - order #dimension\n",
    "#print(\"dimensions:\", n)\n",
    "\n",
    "\n",
    "collocationpoints = np.linspace(0.0, 1.0, n - 1) #n-1 due to the one initial point\n",
    "#print(\"collocation points:\", collocationpoints)\n",
    "\n",
    "#initialize collocation matrix\n",
    "\n",
    "collocation = np.zeros((n, n))\n",
    "#print(\"initialized collocation array:\", collocation)\n",
    "\n",
    "\n",
    "#find index of first knot in the array that follows point of evaluation, set Bslipne boundary condition to 1.0 \n",
    "\n",
    "ix = np.searchsorted(knots, 1.0, side = 'right')\n",
    "ix = min(ix, n)\n",
    "\n",
    "\n",
    "\n",
    "\n",
    "#fill collocation matrix with Bspline values at 1.0\n",
    "\n",
    "bvalues = bspy.Spline.bspline_values(ix, knots, order, 1.0)\n",
    "collocation[-1, ix - order : ix] = bvalues\n",
    "#print(\"initiallized collocation:\", collocation)\n",
    "\n",
    "for irow, t in enumerate(collocationpoints):\n",
    "    ix = np.searchsorted(knots, t, side = 'right')\n",
    "    ix = min(ix, n)\n",
    "    \n",
    "    #calculate Bspline and derivative at t\n",
    "    \n",
    "    bvalues = bspy.Spline.bspline_values(ix, knots, order, t)\n",
    "    bvaluesp = bspy.Spline.bspline_values(ix, knots, order, t, 1)\n",
    "    print(\"t:\", t,\"index:\", ix,\"bvaluesp:\", bvaluesp,\"bvalues:\", bvalues)\n",
    "    \n",
    "    #from the irow value after boundary condition (irow) insert y' - y\n",
    "    \n",
    "    collocation[irow, ix - order : ix] = bvaluesp - bvalues \n",
    "#print(\"collocation:\", collocation)\n",
    "\n",
    "\n",
    "# Create the right hand side\n",
    "\n",
    "rhs = np.zeros((n,))\n",
    "rhs[-1] = 1.0\n",
    "#print(\"rhs:\", rhs)\n",
    "\n",
    "# Solve the linear system\n",
    "\n",
    "lupiv = scipy.linalg.lu_factor(collocation)\n",
    "alpha = scipy.linalg.lu_solve(lupiv, rhs)\n",
    "\n",
    "\n",
    "#create spline function\n",
    "\n",
    "u = bspy.Spline(1, 1, [order], [n], [knots], [alpha])\n",
    "u(0.0), u(0.5), u(1.0)\n",
    "\n",
    "#plot\n",
    "\n",
    "plt.plot(*u.graph()(np.linspace(0.0,1.0,101)))\n",
    "tvals = np.linspace(0, 1, 100)\n",
    "plt.plot(tvals, np.exp(tvals - 1), 'r')\n",
    "plt.axis('equal')\n",
    "plt.show()"
   ]
  },
  {
   "cell_type": "code",
   "execution_count": null,
   "id": "e5079b64",
   "metadata": {},
   "outputs": [],
   "source": []
  },
  {
   "cell_type": "code",
   "execution_count": null,
   "id": "b0c21e48",
   "metadata": {},
   "outputs": [],
   "source": []
  }
 ],
 "metadata": {
  "kernelspec": {
   "display_name": "Python 3 (ipykernel)",
   "language": "python",
   "name": "python3"
  },
  "language_info": {
   "codemirror_mode": {
    "name": "ipython",
    "version": 3
   },
   "file_extension": ".py",
   "mimetype": "text/x-python",
   "name": "python",
   "nbconvert_exporter": "python",
   "pygments_lexer": "ipython3",
   "version": "3.12.4"
  }
 },
 "nbformat": 4,
 "nbformat_minor": 5
}
