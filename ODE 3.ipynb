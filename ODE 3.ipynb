{
 "cells": [
  {
   "cell_type": "code",
   "execution_count": 1,
   "id": "a104c291",
   "metadata": {},
   "outputs": [],
   "source": [
    "import numpy as np\n",
    "import scipy\n",
    "from scipy.linalg import lu_factor, lu_solve\n",
    "from scipy.linalg import qr, solve_triangular\n",
    "import matplotlib as mpl\n",
    "import matplotlib.pyplot as plt\n",
    "import bspy"
   ]
  },
  {
   "cell_type": "markdown",
   "id": "1bf1f13b",
   "metadata": {},
   "source": [
    "# ODE \\#3\n",
    "\n",
    "### $$y'(t)=\\begin{pmatrix}0 & -\\pi\\cr \\pi & 0\\cr\\end{pmatrix}y(t),\\qquad y(0)=\\begin{pmatrix}1\\cr 0\\cr\\end{pmatrix}$$"
   ]
  },
  {
   "cell_type": "code",
   "execution_count": 87,
   "id": "50fcc9db",
   "metadata": {},
   "outputs": [
    {
     "name": "stdout",
     "output_type": "stream",
     "text": [
      "knots: [0.  0.  0.  0.  0.2 0.4 0.6 0.8 1.  1.  1.  1. ]\n",
      "t: 0.0 ix: 4 [-15.  15.   0.   0.] [1. 0. 0. 0.]\n",
      "t: 0.16666666666666666 ix: 4 [-0.41666667 -4.27083333  2.95138889  1.73611111] [0.00462963 0.38773148 0.51118827 0.09645062]\n",
      "t: 0.3333333333333333 ix: 5 [-0.41666667 -3.19444444  2.5         1.11111111] [0.00925926 0.36728395 0.57407407 0.04938272]\n",
      "t: 0.5 ix: 6 [-0.625 -3.125  3.125  0.625] [0.02083333 0.47916667 0.47916667 0.02083333]\n",
      "t: 0.6666666666666666 ix: 7 [-1.11111111 -2.5         3.19444444  0.41666667] [0.04938272 0.57407407 0.36728395 0.00925926]\n",
      "t: 0.8333333333333333 ix: 8 [-1.73611111 -2.95138889  4.27083333  0.41666667] [0.09645062 0.51118827 0.38773148 0.00462963]\n",
      "t: 1.0 ix: 8 [  0.   0. -15.  15.] [0. 0. 0. 1.]\n"
     ]
    },
    {
     "data": {
      "image/png": "[encoded data removed]",
      "text/plain": [
       "<Figure size 640x480 with 1 Axes>"
      ]
     },
     "metadata": {},
     "output_type": "display_data"
    }
   ],
   "source": [
    "#y1'(t) = -piy2(t)\n",
    "#y2'(t) = piy1(t)\n",
    "\n",
    "#set parameters\n",
    "degree = 3\n",
    "nknots = 4 #interior knots\n",
    "\n",
    "#create knot vector\n",
    "knots = np.linspace(0.0, 1.0, nknots + 2)\n",
    "knots = np.array(degree * [knots[0]] + list(knots) + degree * [knots[-1]]) #add extra knots at beginning and end\n",
    "print(\"knots:\", knots)\n",
    "\n",
    "\n",
    "#initialize order and dimension\n",
    "order = degree + 1\n",
    "n = len(knots) - order #dimension\n",
    "#print(\"dimensions:\", n)\n",
    "\n",
    "collocationpoints = np.linspace(0.0, 1.0, n - 1)\n",
    "#print(\"collocation points:\", collocationpoints)\n",
    "\n",
    "#initialize collocation matrix\n",
    "collocation = np.zeros((2 * n, 2 * n))\n",
    "\n",
    "#find index of first knot in the array that follows point of evaluation, set Bslipne boundary condition to 0.0 \n",
    "ix = np.searchsorted(knots, 0.0, side = 'right')\n",
    "ix = min(ix, n)\n",
    "\n",
    "#fill collocation matrix with Bspline values at 0.0\n",
    "bvalues = bspy.Spline.bspline_values(ix, knots, order, 0.0)\n",
    "collocation[0, 2 * (ix - order) : 2 * ix : 2] = bvalues\n",
    "collocation[1, 2 * (ix - order) + 1: 2 * ix + 1: 2] = bvalues\n",
    "#print(\"initiallized collocation:\", collocation)\n",
    "\n",
    "for irow, t in enumerate(collocationpoints):\n",
    "    ix = np.searchsorted(knots, t, side = 'right')\n",
    "    ix = min(ix, n)\n",
    "    \n",
    "    #calculate Bspline and derivative at t\n",
    "    bvalues = bspy.Spline.bspline_values(ix, knots, order, t)\n",
    "    bvaluesp = bspy.Spline.bspline_values(ix, knots, order, t, 1)\n",
    "    print(\"t:\", t, \"ix:\", ix, bvaluesp, bvalues)\n",
    "    \n",
    "    #from the irow value after boundary condition (irow) insert y' - y\n",
    "    collocation[2 * irow + 2, 2 * (ix - order):2 * ix:2] = - np.pi * bvalues # Starting from the first index, alpha\n",
    "    collocation[2 * irow + 2, 2 * (ix - order) + 1:2 * ix + 1:2] = bvaluesp  # beta\n",
    "    collocation[2 * irow + 3, 2 * (ix - order) :2 * ix:2] = bvaluesp # alpha\n",
    "    collocation[2 * irow + 3, 2 * (ix - order) + 1:2 * ix + 1:2] = np.pi * bvalues # beta\n",
    "    \n",
    "# Create the right hand side\n",
    "rhs = np.zeros((2 * n,))\n",
    "rhs[0] = 1.0\n",
    "rhs[1] = 0.0\n",
    "#print(\"rhs:\", rhs)\n",
    "#print(\"c: \", collocation)\n",
    "\n",
    "# Solve the linear system\n",
    "lupiv = scipy.linalg.lu_factor(collocation)\n",
    "alpha = scipy.linalg.lu_solve(lupiv, rhs)\n",
    "\n",
    "\n",
    "alpha_u = alpha[0::2]  \n",
    "alpha_v = alpha[1::2]\n",
    "\n",
    "#create spline function\n",
    "u = bspy.Spline(1, 1, [order], [n], [knots], [alpha_u])\n",
    "v = bspy.Spline(1, 1, [order], [n], [knots], [alpha_v])\n",
    "u(0.0), u(0.5), u(1.0)\n",
    "v_values = [v(0.0), v(0.5), v(1.0)]\n",
    "\n",
    "#plot\n",
    "#plt.plot(*u.graph()(np.linspace(0.0,1.0,101)))\n",
    "tvals = np.linspace(0, 1, 100)\n",
    "y1_val = u(tvals)\n",
    "y2_val = v(tvals)\n",
    "plt.plot(y1_val, y2_val)\n",
    "\n",
    "tvals = np.linspace(0, 1, 100)\n",
    "y1 = np.cos(np.pi * tvals)\n",
    "y2 = np.sin(np.pi * tvals)\n",
    "plt.plot(y1, y2, 'r')\n",
    "plt.axis('equal')\n",
    "plt.show()"
   ]
  },
  {
   "cell_type": "code",
   "execution_count": null,
   "id": "1d33cd3a",
   "metadata": {},
   "outputs": [],
   "source": []
  }
 ],
 "metadata": {
  "kernelspec": {
   "display_name": "Python 3 (ipykernel)",
   "language": "python",
   "name": "python3"
  },
  "language_info": {
   "codemirror_mode": {
    "name": "ipython",
    "version": 3
   },
   "file_extension": ".py",
   "mimetype": "text/x-python",
   "name": "python",
   "nbconvert_exporter": "python",
   "pygments_lexer": "ipython3",
   "version": "3.11.5"
  }
 },
 "nbformat": 4,
 "nbformat_minor": 5
}
